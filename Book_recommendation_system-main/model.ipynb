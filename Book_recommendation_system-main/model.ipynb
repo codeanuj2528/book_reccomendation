{
 "cells": [
  {
   "cell_type": "code",
   "execution_count": 1,
   "metadata": {},
   "outputs": [
    {
     "name": "stdout",
     "output_type": "stream",
     "text": [
      "                      Title            Author       Genre           SubGenre  \\\n",
      "0  Fundamentals of Wavelets  Goswami, Jaideva        tech  signal_processing   \n",
      "1                Data Smart     Foreman, John        tech       data_science   \n",
      "2  God Created the Integers  Hawking, Stephen        tech        mathematics   \n",
      "3         Superfreakonomics   Dubner, Stephen     science          economics   \n",
      "4               Orientalism      Said, Edward  nonfiction            history   \n",
      "\n",
      "   Height      Publisher  \n",
      "0     228          Wiley  \n",
      "1     235          Wiley  \n",
      "2     197        Penguin  \n",
      "3     179  HarperCollins  \n",
      "4     197        Penguin  \n",
      "<class 'pandas.core.frame.DataFrame'>\n",
      "RangeIndex: 211 entries, 0 to 210\n",
      "Data columns (total 6 columns):\n",
      " #   Column     Non-Null Count  Dtype \n",
      "---  ------     --------------  ----- \n",
      " 0   Title      211 non-null    object\n",
      " 1   Author     187 non-null    object\n",
      " 2   Genre      211 non-null    object\n",
      " 3   SubGenre   211 non-null    object\n",
      " 4   Height     211 non-null    int64 \n",
      " 5   Publisher  115 non-null    object\n",
      "dtypes: int64(1), object(5)\n",
      "memory usage: 10.0+ KB\n",
      "None\n"
     ]
    }
   ],
   "source": [
    "import pandas as pd\n",
    "\n",
    "# Load dataset\n",
    "data = pd.read_csv('books_new.csv')\n",
    "\n",
    "# Explore the data\n",
    "print(data.head())\n",
    "print(data.info())\n",
    "\n",
    "# Handle missing values\n",
    "# data.dropna(inplace=True)  # or use fillna() for specific columns\n",
    "\n",
    "# Remove duplicates\n",
    "# data.drop_duplicates(inplace=True)\n",
    "\n",
    "# Normalize genre column\n",
    "# data['genre'] = data['genre'].str.lower()\n"
   ]
  },
  {
   "cell_type": "code",
   "execution_count": 2,
   "metadata": {},
   "outputs": [
    {
     "name": "stdout",
     "output_type": "stream",
     "text": [
      "Title        0\n",
      "Author       0\n",
      "Genre        0\n",
      "SubGenre     0\n",
      "Height       0\n",
      "Publisher    0\n",
      "dtype: int64\n"
     ]
    },
    {
     "name": "stderr",
     "output_type": "stream",
     "text": [
      "C:\\Users\\suraj\\AppData\\Local\\Temp\\ipykernel_7380\\2881849375.py:2: FutureWarning: A value is trying to be set on a copy of a DataFrame or Series through chained assignment using an inplace method.\n",
      "The behavior will change in pandas 3.0. This inplace method will never work because the intermediate object on which we are setting values always behaves as a copy.\n",
      "\n",
      "For example, when doing 'df[col].method(value, inplace=True)', try using 'df.method({col: value}, inplace=True)' or df[col] = df[col].method(value) instead, to perform the operation inplace on the original object.\n",
      "\n",
      "\n",
      "  data['Author'].fillna('Unknown Author', inplace=True)\n",
      "C:\\Users\\suraj\\AppData\\Local\\Temp\\ipykernel_7380\\2881849375.py:5: FutureWarning: A value is trying to be set on a copy of a DataFrame or Series through chained assignment using an inplace method.\n",
      "The behavior will change in pandas 3.0. This inplace method will never work because the intermediate object on which we are setting values always behaves as a copy.\n",
      "\n",
      "For example, when doing 'df[col].method(value, inplace=True)', try using 'df.method({col: value}, inplace=True)' or df[col] = df[col].method(value) instead, to perform the operation inplace on the original object.\n",
      "\n",
      "\n",
      "  data['Publisher'].fillna('Unknown Publisher', inplace=True)\n"
     ]
    }
   ],
   "source": [
    "# Fill missing authors with 'Unknown Author'\n",
    "data['Author'].fillna('Unknown Author', inplace=True)\n",
    "\n",
    "# Fill missing publishers with 'Unknown Publisher'\n",
    "data['Publisher'].fillna('Unknown Publisher', inplace=True)\n",
    "\n",
    "# Check again for missing values\n",
    "print(data.isnull().sum())\n"
   ]
  },
  {
   "cell_type": "code",
   "execution_count": 6,
   "metadata": {},
   "outputs": [
    {
     "name": "stdout",
     "output_type": "stream",
     "text": [
      "1                               Data Smart\n",
      "154         Elements of Information Theory\n",
      "58                         Learning OpenCV\n",
      "207           Image Processing with MATLAB\n",
      "61     Principles of Communication Systems\n",
      "Name: Title, dtype: object\n"
     ]
    }
   ],
   "source": [
    "# Step 1: Combine 'Title', 'Author', 'Publisher', 'Genre', and 'SubGenre' into a single feature\n",
    "data['combined_features'] = data['Title'] + \" \" + data['Author'] + \" \" + data['Publisher'] + \" \" + data['Genre'] + \" \" + data['SubGenre']\n",
    "\n",
    "# Step 2: Use TF-IDF Vectorizer to convert the combined features into vectors\n",
    "tfidf = TfidfVectorizer(stop_words='english')\n",
    "\n",
    "# Fit and transform the 'combined_features' column into a TF-IDF matrix\n",
    "tfidf_matrix = tfidf.fit_transform(data['combined_features'])\n",
    "\n",
    "# Step 3: Calculate cosine similarity matrix based on the new TF-IDF vectors\n",
    "cosine_sim = cosine_similarity(tfidf_matrix, tfidf_matrix)\n",
    "\n",
    "# Step 4: Update the recommendation function\n",
    "def get_recommendations(title, cosine_sim=cosine_sim):\n",
    "    # Get the index of the book that matches the title\n",
    "    idx = data[data['Title'] == title].index[0]\n",
    "\n",
    "    # Get pairwise similarity scores for all books\n",
    "    sim_scores = list(enumerate(cosine_sim[idx]))\n",
    "\n",
    "    # Sort the books based on the similarity scores\n",
    "    sim_scores = sorted(sim_scores, key=lambda x: x[1], reverse=True)\n",
    "\n",
    "    # Get the indices of the 5 most similar books (excluding the book itself)\n",
    "    book_indices = [i[0] for i in sim_scores[1:6]]\n",
    "\n",
    "    # Return the top 5 most similar books\n",
    "    return data['Title'].iloc[book_indices]\n",
    "\n",
    "# Test the updated function\n",
    "print(get_recommendations('Fundamentals of Wavelets'))\n"
   ]
  },
  {
   "cell_type": "code",
   "execution_count": 7,
   "metadata": {},
   "outputs": [],
   "source": [
    "import string\n",
    "\n",
    "# Function to clean text\n",
    "def clean_text(text):\n",
    "    # Lowercase\n",
    "    text = text.lower()\n",
    "    # Remove punctuation\n",
    "    text = text.translate(str.maketrans('', '', string.punctuation))\n",
    "    return text\n",
    "\n",
    "# Apply the function to relevant columns\n",
    "for col in ['Title', 'Author', 'Publisher', 'Genre', 'SubGenre']:\n",
    "    data[col] = data[col].apply(clean_text)\n"
   ]
  },
  {
   "cell_type": "code",
   "execution_count": 8,
   "metadata": {},
   "outputs": [],
   "source": [
    "# Emphasize Genre and SubGenre by repeating them\n",
    "data['combined_features'] = (\n",
    "    data['Title'] + ' ' +\n",
    "    data['Author'] + ' ' +\n",
    "    data['Publisher'] + ' ' +\n",
    "    (data['Genre'] + ' ') * 2 +  # Double weighting\n",
    "    (data['SubGenre'] + ' ') * 2  # Double weighting\n",
    ")\n"
   ]
  },
  {
   "cell_type": "code",
   "execution_count": 9,
   "metadata": {},
   "outputs": [],
   "source": [
    "from sklearn.feature_extraction.text import CountVectorizer\n",
    "\n",
    "count = CountVectorizer(stop_words='english', ngram_range=(1, 2))\n",
    "count_matrix = count.fit_transform(data['combined_features'])\n",
    "cosine_sim = cosine_similarity(count_matrix, count_matrix)\n"
   ]
  },
  {
   "cell_type": "code",
   "execution_count": 10,
   "metadata": {},
   "outputs": [
    {
     "name": "stdout",
     "output_type": "stream",
     "text": [
      "1                               data smart\n",
      "154         elements of information theory\n",
      "58                         learning opencv\n",
      "207           image processing with matlab\n",
      "61     principles of communication systems\n",
      "Name: Title, dtype: object\n"
     ]
    }
   ],
   "source": [
    "print(get_recommendations('fundamentals of wavelets'))\n"
   ]
  },
  {
   "cell_type": "code",
   "execution_count": null,
   "metadata": {},
   "outputs": [],
   "source": []
  }
 ],
 "metadata": {
  "kernelspec": {
   "display_name": "Python 3",
   "language": "python",
   "name": "python3"
  },
  "language_info": {
   "codemirror_mode": {
    "name": "ipython",
    "version": 3
   },
   "file_extension": ".py",
   "mimetype": "text/x-python",
   "name": "python",
   "nbconvert_exporter": "python",
   "pygments_lexer": "ipython3",
   "version": "3.12.2"
  }
 },
 "nbformat": 4,
 "nbformat_minor": 2
}
